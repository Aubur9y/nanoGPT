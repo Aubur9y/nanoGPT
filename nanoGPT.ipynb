{
 "cells": [
  {
   "cell_type": "markdown",
   "metadata": {},
   "source": [
    "Import necessary libraries and hyperparameters"
   ]
  },
  {
   "cell_type": "code",
   "execution_count": 5,
   "metadata": {},
   "outputs": [
    {
     "data": {
      "text/plain": [
       "<torch._C.Generator at 0x1e0d09942b0>"
      ]
     },
     "execution_count": 5,
     "metadata": {},
     "output_type": "execute_result"
    }
   ],
   "source": [
    "import torch\n",
    "import torch.nn as nn\n",
    "from torch.nn import functional as F\n",
    "import matplotlib.pyplot as plt\n",
    "\n",
    "batch_size = 16\n",
    "block_size = 32\n",
    "max_iters = 5000\n",
    "eval_interval = 100\n",
    "learning_rate = 1e-3\n",
    "device = 'cuda' if torch.cuda.is_available() else 'cpu'\n",
    "eval_iters = 200\n",
    "n_embd = 64\n",
    "n_head = 4\n",
    "n_layer = 4\n",
    "drop_out = 0.0\n",
    "torch.manual_seed(42)"
   ]
  },
  {
   "cell_type": "code",
   "execution_count": 7,
   "metadata": {},
   "outputs": [
    {
     "name": "stdout",
     "output_type": "stream",
     "text": [
      "Length of text: 1115394\n",
      "First 300 characters of the text: First Citizen:\n",
      "Before we proceed any further, hear me speak.\n",
      "\n",
      "All:\n",
      "Speak, speak.\n",
      "\n",
      "First Citizen:\n",
      "You are all resolved rather to die than to famish?\n",
      "\n",
      "All:\n",
      "Resolved. resolved.\n",
      "\n",
      "First Citizen:\n",
      "First, you know Caius Marcius is chief enemy to the people.\n",
      "\n",
      "All:\n",
      "We know't, we know't.\n",
      "\n",
      "First Citizen:\n",
      "Let us\n",
      "Character appeared in the text \n",
      " !$&',-.3:;?ABCDEFGHIJKLMNOPQRSTUVWXYZabcdefghijklmnopqrstuvwxyz\n",
      "Number of characters: 65\n",
      "Encoding Results:  [20, 43, 50, 50, 53, 1, 35, 53, 56, 50, 42, 2]\n",
      "Decoding Results:  Hello World!\n"
     ]
    }
   ],
   "source": [
    "with open('input.txt', 'r', encoding='utf-8') as f:\n",
    "    text = f.read()\n",
    "\n",
    "print('Length of text:', len(text))\n",
    "print('First 300 characters of the text:', text[:300])\n",
    "chars = sorted(list(set(text)))\n",
    "vocab_size = len(chars)\n",
    "print('Character appeared in the text', ''.join(chars))\n",
    "print('Number of characters:', vocab_size)\n",
    "\n",
    "stoi = { ch:i for i, ch in enumerate(chars) }\n",
    "itos = { i:ch for i, ch in enumerate(chars) }\n",
    "\n",
    "encode = lambda s: [stoi[c] for c in s]\n",
    "decode = lambda l: ''.join([itos[i] for i in l])\n",
    "print('Encoding Results: ', encode('Hello World!'))\n",
    "print('Decoding Results: ', decode(encode('Hello World!')))"
   ]
  },
  {
   "cell_type": "markdown",
   "metadata": {},
   "source": [
    "Dataset Separation and Batch Split"
   ]
  },
  {
   "cell_type": "code",
   "execution_count": 8,
   "metadata": {},
   "outputs": [],
   "source": [
    "data = torch.tensor(encode(text), dtype=torch.long)\n",
    "n = int(0.9*len(data))\n",
    "train_data = data[:n]\n",
    "val_data = data[n:]\n",
    "def get_batch(split):\n",
    "    data = train_data if split == 'train' else val_data\n",
    "    ix = torch.randint(len(data) - block_size, (batch_size,))\n",
    "    x = torch.stack([data[i:i+block_size] for i in ix])\n",
    "    y = torch.stack([data[i+1:i+block_size+1] for i in ix])\n",
    "    x, y = x.to(device), y.to(device)\n",
    "    return x, y"
   ]
  },
  {
   "cell_type": "markdown",
   "metadata": {},
   "source": [
    "Model Evaluation"
   ]
  },
  {
   "cell_type": "code",
   "execution_count": null,
   "metadata": {},
   "outputs": [],
   "source": [
    "@torch.no_grad()\n",
    "def estimate_loss():\n",
    "    out = {}\n",
    "    model.eval()\n",
    "    for split in ['train', 'val']:\n",
    "        losses = torch.zeros(eval_iters)\n",
    "        for k in range(eval_iters):\n",
    "            X, Y = get_batch(split)\n",
    "            logits, loss = model(X, Y)\n",
    "            losses[k] = loss.item()\n",
    "        out[split] = losses.mean()\n",
    "    model.train()\n",
    "    return out"
   ]
  },
  {
   "cell_type": "code",
   "execution_count": 10,
   "metadata": {},
   "outputs": [],
   "source": [
    "class Head(nn.Module):\n",
    "    def __init__(self, head_size):\n",
    "        super().__init__()\n",
    "        self.key = nn.Linear(n_embd, head_size, bias=False)\n",
    "        self.query = nn.Linear(n_embd, head_size, bias=False)\n",
    "        self.value = nn.Linear(n_embd, head_size, bias=False)\n",
    "\n",
    "        # 创建一个下三角矩阵，并将其注册为模型的一个缓冲区\n",
    "        # 用于计算masked self-attention时作为mask\n",
    "        self.register_buffer('tril', torch.tril(torch.ones(block_size, block_size)))\n",
    "        self.dropout = nn.Dropout(drop_out)\n",
    "    def forward(self, x):\n",
    "        # batch size, block size, embedding size\n",
    "        B, T, C = x.shape\n",
    "        k = self.key(x)\n",
    "        q = self.query(x)\n",
    "        v = self.value(x)\n",
    "\n",
    "        wei = q @ k.transpose(-2, -1) * C ** (-0.5)\n",
    "        wei = wei.masked_fill(self.tril[:T, :T] == 0, float('-inf'))\n",
    "        wei = F.softmax(wei, dim=-1)\n",
    "        wei = self.dropout(wei)\n",
    "        out = wei @ v\n",
    "        return out"
   ]
  },
  {
   "cell_type": "code",
   "execution_count": 13,
   "metadata": {},
   "outputs": [],
   "source": [
    "class MultiHeadAttention(nn.Module):\n",
    "    def __init__(self, num_heads, head_size):\n",
    "        super().__init__()\n",
    "        self.heads = nn.ModuleList([Head(head_size) for _ in range(num_heads)])\n",
    "        self.proj = nn.Linear(n_embd, n_embd)\n",
    "        self.dropout = nn.Dropout(drop_out)\n",
    "    def forward(self, x):\n",
    "        out = torch.cat([h(x) for h in self.heads], dim=-1)\n",
    "        out = self.dropout(self.proj(out))\n",
    "        return out\n",
    "\n",
    "class FeedFoward(nn.Module):\n",
    "    def __init__(self, n_embd):\n",
    "        super().__init__()\n",
    "        self.net = nn.Sequential(\n",
    "            nn.Linear(n_embd, 4*n_embd),\n",
    "            nn.ReLU(),\n",
    "            nn.Linear(4*n_embd, n_embd),\n",
    "            nn.Dropout(drop_out),\n",
    "        )\n",
    "    def forward(self, x):\n",
    "        return self.net(x)\n",
    "\n",
    "class Block(nn.Module):\n",
    "    def __init__(self, n_embd, n_head):\n",
    "        super().__init__()\n",
    "        head_size = n_embd // n_head\n",
    "        self.sa = MultiHeadAttention(n_head, head_size)\n",
    "        self.ffwd = FeedFoward(n_embd)\n",
    "        self.ln1 = nn.LayerNorm(n_embd)\n",
    "        self.ln2 = nn.LayerNorm(n_embd)\n",
    "\n",
    "    def forward(self, x):\n",
    "        x = x + self.sa(self.ln1(x))\n",
    "        x = x + self.ffwd(self.ln2(x))\n",
    "        return x\n",
    "\n"
   ]
  },
  {
   "cell_type": "code",
   "execution_count": 14,
   "metadata": {},
   "outputs": [],
   "source": [
    "class BigramLanguageModel(nn.Module):\n",
    "    def __init__(self):\n",
    "        super().__init__()\n",
    "        self.token_embedding_table = nn.Embedding(vocab_size, n_embd)\n",
    "        self.position_embedding_table = nn.Embedding(block_size, n_embd)\n",
    "\n",
    "        self.blocks = nn.Sequential(*[Block(n_embd, n_head) for _ in range(n_layer)])\n",
    "        self.ln_f = nn.LayerNorm(n_embd)\n",
    "        self.lm_head = nn.Linear(n_embd, vocab_size)\n",
    "    def forward(self, idx, targets=None):\n",
    "        B, T = idx.shape\n",
    "        tok_emb = self.token_embedding_table(idx)\n",
    "        pos_emb = self.position_embedding_table(torch.arange(T, device=device))\n",
    "        x = tok_emb + pos_emb\n",
    "        x = self.blocks(x)\n",
    "        x = self.ln_f(x)\n",
    "        logits = self.lm_head(x)\n",
    "        if targets is None:\n",
    "            loss = None\n",
    "        else:\n",
    "            B, T, C = logits.shape\n",
    "            logits = logits.view(B*T, C)\n",
    "            targets = targets.view(B*T)\n",
    "            loss = F.cross_entropy(logits, targets)\n",
    "        return logits, loss\n",
    "    def generate(self, idx, max_new_tokens):\n",
    "        for _ in range(max_new_tokens):\n",
    "            idx_cond = idx[:, -block_size:]\n",
    "            logits, loss = self(idx_cond)\n",
    "            logits = logits[:, -1, :]\n",
    "            probs = F.softmax(logits, dim=-1)\n",
    "            idx_next = torch.multinomial(probs, num_samples=1)\n",
    "            idx = torch.cat((idx, idx_next), dim=1)\n",
    "        return idx"
   ]
  },
  {
   "cell_type": "code",
   "execution_count": 15,
   "metadata": {},
   "outputs": [
    {
     "name": "stdout",
     "output_type": "stream",
     "text": [
      "0.209729 M parameters\n",
      "step 0: train loss 4.44, val loss 4.44\n",
      "step 100: train loss 2.68, val loss 2.69\n",
      "step 200: train loss 2.50, val loss 2.50\n",
      "step 300: train loss 2.42, val loss 2.42\n",
      "step 400: train loss 2.35, val loss 2.35\n",
      "step 500: train loss 2.30, val loss 2.31\n",
      "step 600: train loss 2.25, val loss 2.27\n",
      "step 700: train loss 2.20, val loss 2.21\n",
      "step 800: train loss 2.16, val loss 2.19\n",
      "step 900: train loss 2.12, val loss 2.15\n",
      "step 1000: train loss 2.11, val loss 2.15\n",
      "step 1100: train loss 2.06, val loss 2.10\n",
      "step 1200: train loss 2.03, val loss 2.08\n",
      "step 1300: train loss 2.01, val loss 2.05\n",
      "step 1400: train loss 1.99, val loss 2.05\n",
      "step 1500: train loss 1.96, val loss 2.03\n",
      "step 1600: train loss 1.95, val loss 2.01\n",
      "step 1700: train loss 1.93, val loss 1.99\n",
      "step 1800: train loss 1.90, val loss 1.98\n",
      "step 1900: train loss 1.88, val loss 1.96\n",
      "step 2000: train loss 1.86, val loss 1.96\n",
      "step 2100: train loss 1.85, val loss 1.96\n",
      "step 2200: train loss 1.84, val loss 1.94\n",
      "step 2300: train loss 1.83, val loss 1.94\n",
      "step 2400: train loss 1.82, val loss 1.93\n",
      "step 2500: train loss 1.80, val loss 1.91\n",
      "step 2600: train loss 1.80, val loss 1.93\n",
      "step 2700: train loss 1.79, val loss 1.90\n",
      "step 2800: train loss 1.77, val loss 1.92\n",
      "step 2900: train loss 1.78, val loss 1.92\n",
      "step 3000: train loss 1.76, val loss 1.91\n",
      "step 3100: train loss 1.75, val loss 1.89\n",
      "step 3200: train loss 1.73, val loss 1.89\n",
      "step 3300: train loss 1.74, val loss 1.88\n",
      "step 3400: train loss 1.73, val loss 1.88\n",
      "step 3500: train loss 1.72, val loss 1.88\n",
      "step 3600: train loss 1.72, val loss 1.88\n",
      "step 3700: train loss 1.72, val loss 1.89\n",
      "step 3800: train loss 1.70, val loss 1.89\n",
      "step 3900: train loss 1.71, val loss 1.86\n",
      "step 4000: train loss 1.70, val loss 1.86\n",
      "step 4100: train loss 1.69, val loss 1.87\n",
      "step 4200: train loss 1.69, val loss 1.85\n",
      "step 4300: train loss 1.68, val loss 1.84\n",
      "step 4400: train loss 1.68, val loss 1.84\n",
      "step 4500: train loss 1.68, val loss 1.83\n",
      "step 4600: train loss 1.67, val loss 1.82\n",
      "step 4700: train loss 1.66, val loss 1.83\n",
      "step 4800: train loss 1.67, val loss 1.82\n",
      "step 4900: train loss 1.66, val loss 1.82\n",
      "step 4999: train loss 1.64, val loss 1.82\n",
      "\n",
      "If that fath this segrain, my shall one,\n",
      "Yourse,\n",
      "Of I will a will lappy stry were to gone\n",
      "That up than you, advice thy toman,\n",
      "As aways\n",
      "behink!\n",
      "Uncuessure hath we me make not deaden dies:\n",
      "Sir, unor ice\n"
     ]
    },
    {
     "data": {
      "image/png": "[encoded data removed]",
      "text/plain": [
       "<Figure size 1000x500 with 1 Axes>"
      ]
     },
     "metadata": {},
     "output_type": "display_data"
    }
   ],
   "source": [
    "model = BigramLanguageModel().to(device)\n",
    "\n",
    "print(sum(p.numel() for p in model.parameters()) / 1e6, 'M parameters')\n",
    "\n",
    "optimizer = torch.optim.Adam(model.parameters(), lr=learning_rate)\n",
    "\n",
    "train_losses = []\n",
    "val_losses = []\n",
    "\n",
    "for iter in range(max_iters):\n",
    "    if iter % eval_interval == 0 or iter == max_iters - 1:\n",
    "        losses = estimate_loss()\n",
    "        print(f\"step {iter}: train loss {losses['train']:.2f}, val loss {losses['val']:.2f}\")\n",
    "        train_losses.append(losses['train'])\n",
    "        val_losses.append(losses['val'])\n",
    "    xb, yb = get_batch('train')\n",
    "    logits, loss = model(xb, yb)\n",
    "    optimizer.zero_grad(set_to_none=True)\n",
    "    loss.backward()\n",
    "    optimizer.step()\n",
    "plt.figure(figsize=(10, 5))\n",
    "plt.plot(train_losses, label='Train Loss')\n",
    "plt.plot(val_losses, label='Validation Loss')\n",
    "plt.xlabel('Iteration')\n",
    "plt.ylabel('Loss')\n",
    "plt.title('Training and Validation Loss')\n",
    "plt.legend()\n",
    "plt.savefig('loss.png') \n",
    "context = torch.zeros((1, 1), dtype=torch.long, device=device)\n",
    "print(decode(model.generate(context, max_new_tokens=200)[0].tolist()))"
   ]
  },
  {
   "cell_type": "code",
   "execution_count": 16,
   "metadata": {},
   "outputs": [
    {
     "name": "stdout",
     "output_type": "stream",
     "text": [
      "\n",
      "As ingrar my from steepets: thou tha's my friend I have agriven!-\n",
      "IShoh heer must ack'd brother\n",
      "Where God that was ready, what peacue thy gosonger:\n",
      "Alus I will god Hockin theing, tender of all then unwer annower\n",
      "But Remeo, sir my ascure on my fories,\n",
      "If so take unhis the advanse,\n",
      "The worthung not havess froguis Riy.\n",
      "be I thy lumb:' and as syet, you tride,\n",
      "Some stoods,\n",
      "Speak are.\n",
      "\n",
      "RUCENEES:\n",
      "Mever,\n",
      "He tild Murse wash body and king,\n",
      "Sir.\n",
      "\n",
      "NRY MARTHASBYORD:\n",
      "Aluor here make!\n",
      "Where it, and'stating trush!\n",
      "\n",
      "FORD BOLINGBROHAND:\n",
      "My comforthy shalrister your paster'd boanness forthen they\n",
      "If I'll speak her.\n",
      "\n",
      "POMD:\n",
      "So conder frier, eremilion.\n",
      "\n",
      "Nurse: March that\n",
      "Counser call be your harrs, what a thy threavese,\n",
      "You than thank that you chary again's thanful's not thy quoner oar,\n",
      "Or quearn, no, sir.\n",
      "\n",
      "TEMINIUS:\n",
      "And are what jewer, then\n",
      "Making my stubjectip,\n",
      "To cupce! Vold Morrow hidurse,\n",
      "Bettendamver thy fir a laKy his tombe:\n",
      "And night, ax see,'\n",
      "And his beand, he, she's this out liest books poishaly,\n",
      "\n"
     ]
    }
   ],
   "source": [
    "print(decode(model.generate(context, max_new_tokens=1000)[0].tolist()))"
   ]
  },
  {
   "cell_type": "code",
   "execution_count": 21,
   "metadata": {},
   "outputs": [
    {
     "name": "stdout",
     "output_type": "stream",
     "text": [
      "Actual memory used: 19.6767578125 MB\n",
      "Reserved memory: 34.0 MB\n"
     ]
    }
   ],
   "source": [
    "print(f\"Actual memory used: {torch.cuda.memory_allocated() / 1024 ** 2} MB\")\n",
    "print(f\"Reserved memory: {torch.cuda.memory_reserved() / 1024 ** 2} MB\")"
   ]
  }
 ],
 "metadata": {
  "kernelspec": {
   "display_name": ".venv",
   "language": "python",
   "name": "python3"
  },
  "language_info": {
   "codemirror_mode": {
    "name": "ipython",
    "version": 3
   },
   "file_extension": ".py",
   "mimetype": "text/x-python",
   "name": "python",
   "nbconvert_exporter": "python",
   "pygments_lexer": "ipython3",
   "version": "3.13.1"
  }
 },
 "nbformat": 4,
 "nbformat_minor": 2
}
